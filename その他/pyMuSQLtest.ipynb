{
 "cells": [
  {
   "cell_type": "code",
   "execution_count": null,
   "id": "4f458bb0-cf9a-4cb0-8e2d-60bd1a4aa344",
   "metadata": {
    "jupyter": {
     "source_hidden": true
    },
    "tags": []
   },
   "outputs": [],
   "source": [
    "#  MySQL へLocal接続\n",
    "#!pip install PyMySQL\n",
    "\n",
    "import pymysql\n",
    "\n",
    "#　mySQL stockdbローカル接続\n",
    "\n",
    "connection = pymysql.connect(host='localhost',\n",
    "                             user='kunieda',\n",
    "                             password='Taro.92eda',\n",
    "                             db='test',\n",
    "                             charset='utf8mb4',\n",
    "                             cursorclass=pymysql.cursors.DictCursor)"
   ]
  },
  {
   "cell_type": "code",
   "execution_count": 5,
   "id": "cc163c82-4e3b-4a3d-b383-fb7c79714001",
   "metadata": {
    "tags": []
   },
   "outputs": [
    {
     "data": {
      "text/plain": [
       "<pymysql.connections.Connection at 0x7feaa847b820>"
      ]
     },
     "execution_count": 5,
     "metadata": {},
     "output_type": "execute_result"
    }
   ],
   "source": [
    "#  さくらMySQL test へRemote接続\n",
    "#!pip install PyMySQL\n",
    "\n",
    "import pymysql\n",
    "\n",
    "#　mySQL stockdb\n",
    "\n",
    "connection = pymysql.connect(host='ik1-129-71250.vs.sakura.ne.jp',\n",
    "                             user='kunieda',\n",
    "                             password='Taro.92eda',\n",
    "                             db='test',\n",
    "                             charset='utf8mb4',\n",
    "                             cursorclass=pymysql.cursors.DictCursor)\n",
    "\n",
    "cur = connection.cursor()\n",
    "connection"
   ]
  },
  {
   "cell_type": "code",
   "execution_count": 2,
   "id": "8c717338-2606-4ef5-b741-c51b2f0466d8",
   "metadata": {
    "tags": []
   },
   "outputs": [
    {
     "data": {
      "text/plain": [
       "<pymysql.connections.Connection at 0x7feac83ef1c0>"
      ]
     },
     "execution_count": 2,
     "metadata": {},
     "output_type": "execute_result"
    }
   ],
   "source": []
  },
  {
   "cell_type": "code",
   "execution_count": 6,
   "id": "7a78b406-5818-4236-bf15-29f71b352a09",
   "metadata": {},
   "outputs": [],
   "source": [
    "cur = connection.cursor()\n",
    "result = cur.execute('select * from t4')\n",
    "result"
   ]
  },
  {
   "cell_type": "code",
   "execution_count": 6,
   "id": "580635b1-363f-426c-9181-b0cfa5ab8ec3",
   "metadata": {},
   "outputs": [
    {
     "data": {
      "text/plain": [
       "2"
      ]
     },
     "execution_count": 6,
     "metadata": {},
     "output_type": "execute_result"
    }
   ],
   "source": []
  },
  {
   "cell_type": "code",
   "execution_count": null,
   "id": "09ba80ac-a8e6-40c1-8099-559d46b52b8d",
   "metadata": {
    "editable": true,
    "scrolled": true,
    "slideshow": {
     "slide_type": ""
    },
    "tags": []
   },
   "outputs": [],
   "source": [
    "# MySQL db table いかんたんなリスト更新登録　１\n",
    "\n",
    "\n",
    "values=[\"Etsuo\"]\n",
    "\n",
    "sql = ('''\n",
    "INSERT INTO t3 \n",
    "        (name)\n",
    "VALUES \n",
    "        (%s)\n",
    "\n",
    "''')\n",
    "connection.commit()\n"
   ]
  },
  {
   "cell_type": "code",
   "execution_count": null,
   "id": "8e1f3fee-09f4-4c5f-a630-a378ee465775",
   "metadata": {
    "editable": true,
    "scrolled": true,
    "slideshow": {
     "slide_type": ""
    },
    "tags": []
   },
   "outputs": [],
   "source": [
    "# MySQL db table かんたんなリスト更新登録2\n",
    "\n",
    "\n",
    "values=[tuple([5, \"etsuo\"])]\n",
    "\n",
    "sql = ('''\n",
    "INSERT INTO t3 \n",
    "        (id, name)\n",
    "VALUES \n",
    "        (%s,%s)\n",
    "\n",
    "''')\n",
    "connection.commit()\n"
   ]
  },
  {
   "cell_type": "code",
   "execution_count": null,
   "id": "1bfa0ad7-7510-4e8d-9ca1-7d57650f9c0d",
   "metadata": {
    "editable": true,
    "scrolled": true,
    "slideshow": {
     "slide_type": ""
    },
    "tags": []
   },
   "outputs": [],
   "source": [
    "# MySQL db table positionsにpositionsリスト更新登録\n",
    "import datetime \n",
    "\n",
    "now = datetime.datetime.now()\n",
    "\n",
    "values=[tuple([2, '2023-11-14 02:44:38.842865',now]),\n",
    "       tuple([3, '2021-10-14 02:44:38.842865',now])]\n",
    "\n",
    "sql = ('''\n",
    "INSERT INTO t3 \n",
    "        (id, ts2, dt2)\n",
    "VALUES \n",
    "        (%s,%s,%s)\n",
    "\n",
    "''')\n",
    "\n",
    "connection.commit()\n"
   ]
  },
  {
   "cell_type": "code",
   "execution_count": null,
   "id": "c988f8b3-f6aa-41a2-9da7-51069d8a7466",
   "metadata": {
    "editable": true,
    "scrolled": true,
    "slideshow": {
     "slide_type": ""
    },
    "tags": []
   },
   "outputs": [],
   "source": [
    "values\n",
    "cur.executemany(sql, values)\n",
    "\n",
    "connection.commit()"
   ]
  },
  {
   "cell_type": "code",
   "execution_count": null,
   "id": "cc8e59d0-5769-47cd-8053-a1854acac0aa",
   "metadata": {
    "editable": true,
    "scrolled": true,
    "slideshow": {
     "slide_type": ""
    },
    "tags": []
   },
   "outputs": [],
   "source": [
    "\n",
    "\n",
    "insertAposition(positions)"
   ]
  },
  {
   "cell_type": "code",
   "execution_count": null,
   "id": "14d3b90a-dc06-4cd3-afea-439333f19550",
   "metadata": {
    "editable": true,
    "scrolled": true,
    "slideshow": {
     "slide_type": ""
    },
    "tags": []
   },
   "outputs": [],
   "source": [
    "# MySQL db table positionsにpositionsリスト更新登録\n",
    "def insertAposition( positions ):\n",
    "\n",
    "    \n",
    "    values =  [ tuple(apos.values()) for apos in positions]\n",
    "\n",
    "    sql = ('''\n",
    "    INSERT INTO stock_stock \n",
    "        (ExecutionID, AccountType, Symbol, SymbolName, Exchange, ExchangeName, Price, \\\n",
    "        LeavesQty, HoldQty, Side, CurrentPrice, Valuation, ProfitLoss, ProfitLossRate)\n",
    "    VALUES \n",
    "        (%s, %s, %s, %s, %s,%s, %s, %s, %s, %s,%s, %s, %s, %s)\n",
    "    ''')\n",
    "\n",
    "    cur.executemany(sql, values)\n",
    "    connection.commit()\n",
    "\n",
    "insertAposition(positions)"
   ]
  },
  {
   "cell_type": "code",
   "execution_count": null,
   "id": "ec8aa3f6-d86c-41d5-aaf0-41e31013784e",
   "metadata": {},
   "outputs": [],
   "source": [
    "\n",
    "       # データ読み込み\n",
    "sql = \"SELECT * FROM `positions`\"\n",
    "cur.execute(sql)\n",
    "result = cursor.fetchall()\n",
    "print(result)"
   ]
  },
  {
   "cell_type": "code",
   "execution_count": null,
   "id": "6c001069-2577-4b5b-898a-967e66e75d9e",
   "metadata": {},
   "outputs": [],
   "source": [
    "       # データ消去\n",
    "sql = \"TRUNCATE TABLE `positions`\"\n",
    "cur.execute(sql)\n",
    "result = cursor.fetchall()\n",
    "print(result)"
   ]
  },
  {
   "cell_type": "code",
   "execution_count": null,
   "id": "c0323447-fd77-459d-90c3-edafb078bde4",
   "metadata": {},
   "outputs": [],
   "source": [
    "connection.close()\n",
    "connection"
   ]
  },
  {
   "cell_type": "code",
   "execution_count": null,
   "id": "e7b60bba-d771-487f-bf2f-9a0af0796f75",
   "metadata": {},
   "outputs": [],
   "source": []
  }
 ],
 "metadata": {
  "kernelspec": {
   "display_name": "Python 3 (ipykernel)",
   "language": "python",
   "name": "python3"
  },
  "language_info": {
   "codemirror_mode": {
    "name": "ipython",
    "version": 3
   },
   "file_extension": ".py",
   "mimetype": "text/x-python",
   "name": "python",
   "nbconvert_exporter": "python",
   "pygments_lexer": "ipython3",
   "version": "3.8.13"
  }
 },
 "nbformat": 4,
 "nbformat_minor": 5
}
