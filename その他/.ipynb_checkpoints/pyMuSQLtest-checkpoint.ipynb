{
 "cells": [
  {
   "cell_type": "code",
   "execution_count": 8,
   "id": "4f458bb0-cf9a-4cb0-8e2d-60bd1a4aa344",
   "metadata": {},
   "outputs": [],
   "source": [
    "#  MySQL へLocal接続\n",
    "#!pip install PyMySQL\n",
    "\n",
    "import pymysql\n",
    "\n",
    "#　mySQL stockdbローカル接続\n",
    "\n",
    "connection = pymysql.connect(host='localhost',\n",
    "                             user='kunieda',\n",
    "                             password='Taro.92eda',\n",
    "                             db='stockdb',\n",
    "                             charset='utf8mb4',\n",
    "                             cursorclass=pymysql.cursors.DictCursor)"
   ]
  },
  {
   "cell_type": "code",
   "execution_count": 1,
   "id": "a1b208a4-5d29-4f94-9ba6-f62589cb373a",
   "metadata": {},
   "outputs": [],
   "source": [
    "#  さくらMySQL へRemote接続\n",
    "#!pip install PyMySQL\n",
    "\n",
    "import pymysql\n",
    "\n",
    "#　mySQL stockdb\n",
    "\n",
    "connection = pymysql.connect(host='ik1-129-71250.vs.sakura.ne.jp',\n",
    "                             user='kunieda',\n",
    "                             password='Taro.92eda',\n",
    "                             db='stockdb',\n",
    "                             charset='utf8mb4',\n",
    "                             cursorclass=pymysql.cursors.DictCursor)"
   ]
  },
  {
   "cell_type": "code",
   "execution_count": 2,
   "id": "df98e7f1-07c2-4736-adaa-0a013f84ac76",
   "metadata": {},
   "outputs": [
    {
     "data": {
      "text/plain": [
       "<pymysql.connections.Connection at 0x7fa4006d9580>"
      ]
     },
     "execution_count": 2,
     "metadata": {},
     "output_type": "execute_result"
    }
   ],
   "source": [
    "connection"
   ]
  },
  {
   "cell_type": "code",
   "execution_count": 10,
   "id": "2689b699-ead0-496a-b81a-49159e9e4883",
   "metadata": {},
   "outputs": [
    {
     "ename": "OperationalError",
     "evalue": "(1701, 'Cannot truncate a table referenced in a foreign key constraint (`stockdb`.`stock_trade`, CONSTRAINT `stock_trade_stock_record_id_0cb5b342_fk_stock_stock_Symbol`)')",
     "output_type": "error",
     "traceback": [
      "\u001b[1;31m---------------------------------------------------------------------------\u001b[0m",
      "\u001b[1;31mOperationalError\u001b[0m                          Traceback (most recent call last)",
      "Cell \u001b[1;32mIn[10], line 8\u001b[0m\n\u001b[0;32m      6\u001b[0m \u001b[38;5;28;01mwith\u001b[39;00m connection\u001b[38;5;241m.\u001b[39mcursor() \u001b[38;5;28;01mas\u001b[39;00m cursor:\n\u001b[0;32m      7\u001b[0m     sql \u001b[38;5;241m=\u001b[39m \u001b[38;5;124m\"\u001b[39m\u001b[38;5;124mTRUNCATE table stock_stock;\u001b[39m\u001b[38;5;124m\"\u001b[39m\n\u001b[1;32m----> 8\u001b[0m     \u001b[43mcursor\u001b[49m\u001b[38;5;241;43m.\u001b[39;49m\u001b[43mexecute\u001b[49m\u001b[43m(\u001b[49m\u001b[43msql\u001b[49m\u001b[43m)\u001b[49m\n\u001b[0;32m     10\u001b[0m connection\u001b[38;5;241m.\u001b[39mcommit()\n\u001b[0;32m     11\u001b[0m \u001b[38;5;28mprint\u001b[39m(\u001b[38;5;124m\"\u001b[39m\u001b[38;5;124m*Data Deleted*\u001b[39m\u001b[38;5;124m\"\u001b[39m)    \n",
      "File \u001b[1;32m~\\AppData\\Roaming\\jupyterlab-desktop\\jlab_server\\lib\\site-packages\\pymysql\\cursors.py:153\u001b[0m, in \u001b[0;36mCursor.execute\u001b[1;34m(self, query, args)\u001b[0m\n\u001b[0;32m    149\u001b[0m     \u001b[38;5;28;01mpass\u001b[39;00m\n\u001b[0;32m    151\u001b[0m query \u001b[38;5;241m=\u001b[39m \u001b[38;5;28mself\u001b[39m\u001b[38;5;241m.\u001b[39mmogrify(query, args)\n\u001b[1;32m--> 153\u001b[0m result \u001b[38;5;241m=\u001b[39m \u001b[38;5;28;43mself\u001b[39;49m\u001b[38;5;241;43m.\u001b[39;49m\u001b[43m_query\u001b[49m\u001b[43m(\u001b[49m\u001b[43mquery\u001b[49m\u001b[43m)\u001b[49m\n\u001b[0;32m    154\u001b[0m \u001b[38;5;28mself\u001b[39m\u001b[38;5;241m.\u001b[39m_executed \u001b[38;5;241m=\u001b[39m query\n\u001b[0;32m    155\u001b[0m \u001b[38;5;28;01mreturn\u001b[39;00m result\n",
      "File \u001b[1;32m~\\AppData\\Roaming\\jupyterlab-desktop\\jlab_server\\lib\\site-packages\\pymysql\\cursors.py:322\u001b[0m, in \u001b[0;36mCursor._query\u001b[1;34m(self, q)\u001b[0m\n\u001b[0;32m    320\u001b[0m conn \u001b[38;5;241m=\u001b[39m \u001b[38;5;28mself\u001b[39m\u001b[38;5;241m.\u001b[39m_get_db()\n\u001b[0;32m    321\u001b[0m \u001b[38;5;28mself\u001b[39m\u001b[38;5;241m.\u001b[39m_clear_result()\n\u001b[1;32m--> 322\u001b[0m \u001b[43mconn\u001b[49m\u001b[38;5;241;43m.\u001b[39;49m\u001b[43mquery\u001b[49m\u001b[43m(\u001b[49m\u001b[43mq\u001b[49m\u001b[43m)\u001b[49m\n\u001b[0;32m    323\u001b[0m \u001b[38;5;28mself\u001b[39m\u001b[38;5;241m.\u001b[39m_do_get_result()\n\u001b[0;32m    324\u001b[0m \u001b[38;5;28;01mreturn\u001b[39;00m \u001b[38;5;28mself\u001b[39m\u001b[38;5;241m.\u001b[39mrowcount\n",
      "File \u001b[1;32m~\\AppData\\Roaming\\jupyterlab-desktop\\jlab_server\\lib\\site-packages\\pymysql\\connections.py:558\u001b[0m, in \u001b[0;36mConnection.query\u001b[1;34m(self, sql, unbuffered)\u001b[0m\n\u001b[0;32m    556\u001b[0m     sql \u001b[38;5;241m=\u001b[39m sql\u001b[38;5;241m.\u001b[39mencode(\u001b[38;5;28mself\u001b[39m\u001b[38;5;241m.\u001b[39mencoding, \u001b[38;5;124m\"\u001b[39m\u001b[38;5;124msurrogateescape\u001b[39m\u001b[38;5;124m\"\u001b[39m)\n\u001b[0;32m    557\u001b[0m \u001b[38;5;28mself\u001b[39m\u001b[38;5;241m.\u001b[39m_execute_command(COMMAND\u001b[38;5;241m.\u001b[39mCOM_QUERY, sql)\n\u001b[1;32m--> 558\u001b[0m \u001b[38;5;28mself\u001b[39m\u001b[38;5;241m.\u001b[39m_affected_rows \u001b[38;5;241m=\u001b[39m \u001b[38;5;28;43mself\u001b[39;49m\u001b[38;5;241;43m.\u001b[39;49m\u001b[43m_read_query_result\u001b[49m\u001b[43m(\u001b[49m\u001b[43munbuffered\u001b[49m\u001b[38;5;241;43m=\u001b[39;49m\u001b[43munbuffered\u001b[49m\u001b[43m)\u001b[49m\n\u001b[0;32m    559\u001b[0m \u001b[38;5;28;01mreturn\u001b[39;00m \u001b[38;5;28mself\u001b[39m\u001b[38;5;241m.\u001b[39m_affected_rows\n",
      "File \u001b[1;32m~\\AppData\\Roaming\\jupyterlab-desktop\\jlab_server\\lib\\site-packages\\pymysql\\connections.py:822\u001b[0m, in \u001b[0;36mConnection._read_query_result\u001b[1;34m(self, unbuffered)\u001b[0m\n\u001b[0;32m    820\u001b[0m \u001b[38;5;28;01melse\u001b[39;00m:\n\u001b[0;32m    821\u001b[0m     result \u001b[38;5;241m=\u001b[39m MySQLResult(\u001b[38;5;28mself\u001b[39m)\n\u001b[1;32m--> 822\u001b[0m     \u001b[43mresult\u001b[49m\u001b[38;5;241;43m.\u001b[39;49m\u001b[43mread\u001b[49m\u001b[43m(\u001b[49m\u001b[43m)\u001b[49m\n\u001b[0;32m    823\u001b[0m \u001b[38;5;28mself\u001b[39m\u001b[38;5;241m.\u001b[39m_result \u001b[38;5;241m=\u001b[39m result\n\u001b[0;32m    824\u001b[0m \u001b[38;5;28;01mif\u001b[39;00m result\u001b[38;5;241m.\u001b[39mserver_status \u001b[38;5;129;01mis\u001b[39;00m \u001b[38;5;129;01mnot\u001b[39;00m \u001b[38;5;28;01mNone\u001b[39;00m:\n",
      "File \u001b[1;32m~\\AppData\\Roaming\\jupyterlab-desktop\\jlab_server\\lib\\site-packages\\pymysql\\connections.py:1200\u001b[0m, in \u001b[0;36mMySQLResult.read\u001b[1;34m(self)\u001b[0m\n\u001b[0;32m   1198\u001b[0m \u001b[38;5;28;01mdef\u001b[39;00m \u001b[38;5;21mread\u001b[39m(\u001b[38;5;28mself\u001b[39m):\n\u001b[0;32m   1199\u001b[0m     \u001b[38;5;28;01mtry\u001b[39;00m:\n\u001b[1;32m-> 1200\u001b[0m         first_packet \u001b[38;5;241m=\u001b[39m \u001b[38;5;28;43mself\u001b[39;49m\u001b[38;5;241;43m.\u001b[39;49m\u001b[43mconnection\u001b[49m\u001b[38;5;241;43m.\u001b[39;49m\u001b[43m_read_packet\u001b[49m\u001b[43m(\u001b[49m\u001b[43m)\u001b[49m\n\u001b[0;32m   1202\u001b[0m         \u001b[38;5;28;01mif\u001b[39;00m first_packet\u001b[38;5;241m.\u001b[39mis_ok_packet():\n\u001b[0;32m   1203\u001b[0m             \u001b[38;5;28mself\u001b[39m\u001b[38;5;241m.\u001b[39m_read_ok_packet(first_packet)\n",
      "File \u001b[1;32m~\\AppData\\Roaming\\jupyterlab-desktop\\jlab_server\\lib\\site-packages\\pymysql\\connections.py:772\u001b[0m, in \u001b[0;36mConnection._read_packet\u001b[1;34m(self, packet_type)\u001b[0m\n\u001b[0;32m    770\u001b[0m     \u001b[38;5;28;01mif\u001b[39;00m \u001b[38;5;28mself\u001b[39m\u001b[38;5;241m.\u001b[39m_result \u001b[38;5;129;01mis\u001b[39;00m \u001b[38;5;129;01mnot\u001b[39;00m \u001b[38;5;28;01mNone\u001b[39;00m \u001b[38;5;129;01mand\u001b[39;00m \u001b[38;5;28mself\u001b[39m\u001b[38;5;241m.\u001b[39m_result\u001b[38;5;241m.\u001b[39munbuffered_active \u001b[38;5;129;01mis\u001b[39;00m \u001b[38;5;28;01mTrue\u001b[39;00m:\n\u001b[0;32m    771\u001b[0m         \u001b[38;5;28mself\u001b[39m\u001b[38;5;241m.\u001b[39m_result\u001b[38;5;241m.\u001b[39munbuffered_active \u001b[38;5;241m=\u001b[39m \u001b[38;5;28;01mFalse\u001b[39;00m\n\u001b[1;32m--> 772\u001b[0m     \u001b[43mpacket\u001b[49m\u001b[38;5;241;43m.\u001b[39;49m\u001b[43mraise_for_error\u001b[49m\u001b[43m(\u001b[49m\u001b[43m)\u001b[49m\n\u001b[0;32m    773\u001b[0m \u001b[38;5;28;01mreturn\u001b[39;00m packet\n",
      "File \u001b[1;32m~\\AppData\\Roaming\\jupyterlab-desktop\\jlab_server\\lib\\site-packages\\pymysql\\protocol.py:221\u001b[0m, in \u001b[0;36mMysqlPacket.raise_for_error\u001b[1;34m(self)\u001b[0m\n\u001b[0;32m    219\u001b[0m \u001b[38;5;28;01mif\u001b[39;00m DEBUG:\n\u001b[0;32m    220\u001b[0m     \u001b[38;5;28mprint\u001b[39m(\u001b[38;5;124m\"\u001b[39m\u001b[38;5;124merrno =\u001b[39m\u001b[38;5;124m\"\u001b[39m, errno)\n\u001b[1;32m--> 221\u001b[0m \u001b[43merr\u001b[49m\u001b[38;5;241;43m.\u001b[39;49m\u001b[43mraise_mysql_exception\u001b[49m\u001b[43m(\u001b[49m\u001b[38;5;28;43mself\u001b[39;49m\u001b[38;5;241;43m.\u001b[39;49m\u001b[43m_data\u001b[49m\u001b[43m)\u001b[49m\n",
      "File \u001b[1;32m~\\AppData\\Roaming\\jupyterlab-desktop\\jlab_server\\lib\\site-packages\\pymysql\\err.py:143\u001b[0m, in \u001b[0;36mraise_mysql_exception\u001b[1;34m(data)\u001b[0m\n\u001b[0;32m    141\u001b[0m \u001b[38;5;28;01mif\u001b[39;00m errorclass \u001b[38;5;129;01mis\u001b[39;00m \u001b[38;5;28;01mNone\u001b[39;00m:\n\u001b[0;32m    142\u001b[0m     errorclass \u001b[38;5;241m=\u001b[39m InternalError \u001b[38;5;28;01mif\u001b[39;00m errno \u001b[38;5;241m<\u001b[39m \u001b[38;5;241m1000\u001b[39m \u001b[38;5;28;01melse\u001b[39;00m OperationalError\n\u001b[1;32m--> 143\u001b[0m \u001b[38;5;28;01mraise\u001b[39;00m errorclass(errno, errval)\n",
      "\u001b[1;31mOperationalError\u001b[0m: (1701, 'Cannot truncate a table referenced in a foreign key constraint (`stockdb`.`stock_trade`, CONSTRAINT `stock_trade_stock_record_id_0cb5b342_fk_stock_stock_Symbol`)')"
     ]
    }
   ],
   "source": [
    "# SQLを操作する\n",
    "cur = connection.cursor()\n",
    "result = cur.execute('select * from stock_stock')\n",
    "\n",
    "if result != 0:\n",
    "    with connection.cursor() as cursor:\n",
    "        sql = \"TRUNCATE table stock_stock;\"\n",
    "        cursor.execute(sql)\n",
    "    \n",
    "    connection.commit()\n",
    "    print(\"*Data Deleted*\")    \n",
    "\n",
    "cur = connection.cursor()\n",
    "result = cur.execute('select * from stock_stock')\n",
    "result\n"
   ]
  },
  {
   "cell_type": "code",
   "execution_count": null,
   "id": "6a568220-5b50-4db1-acf4-cfafa3fae49d",
   "metadata": {},
   "outputs": [],
   "source": [
    "# Kabu station API test\n",
    "# 2023/9/28\n",
    "# E.Kunieda\n",
    "\n",
    "import urllib.request\n",
    "import json\n",
    "import pprint\n",
    "import time, datetime\n",
    "\n",
    "# トークン発行\n",
    "\n",
    "def generate_token():# トークン発行\n",
    "    obj = { 'APIPassword': 'e2092eda' }\n",
    "    json_data = json.dumps(obj).encode('utf8')\n",
    "    \n",
    "    url = 'http://localhost:18080/kabusapi/token'\n",
    "    req = urllib.request.Request(url, json_data, method='POST')\n",
    "    req.add_header('Content-Type', 'application/json')\n",
    "    \n",
    "    try:\n",
    "        with urllib.request.urlopen(req) as res:\n",
    "            content = json.loads(res.read())\n",
    "            token_value = content.get('Token')\n",
    "            pprint.pprint(token_value)\n",
    "    except urllib.error.HTTPError as e:\n",
    "        print(e)\n",
    "        content = json.loads(e.read())\n",
    "        pprint.pprint(content)\n",
    "    return token_value\n",
    "    \n",
    "   \n",
    "def get_positions(token):    # 残高照会\n",
    "    url_symbol = 'http://localhost:18080/kabusapi/positions'\n",
    "    req_symbol = urllib.request.Request(url_symbol, method='GET')\n",
    "    req_symbol.add_header('X-API-KEY', token)\n",
    "    \n",
    "    try:\n",
    "        with urllib.request.urlopen(req_symbol) as res_symbol:\n",
    "            content_symbol = json.loads(res_symbol.read())\n",
    "#            pprint.pprint(content_symbol)\n",
    "    except urllib.error.HTTPError as e_symbol:\n",
    "        print(e_symbol)\n",
    "        content_symbol = json.loads(e_symbol.read())\n",
    "    return content_symbol\n",
    "   \n",
    "    # トークン発行\n",
    "token_value = generate_token()\n",
    "# 残高照会\n",
    "positions = get_positions(token_value)\n",
    "\n",
    "for apos in positions:\n",
    "    pprint.pprint(apos['SymbolName'])"
   ]
  },
  {
   "cell_type": "code",
   "execution_count": 7,
   "id": "4fac83b8-4bca-483a-a9db-9e19c8db2345",
   "metadata": {},
   "outputs": [
    {
     "data": {
      "text/plain": [
       "[{'ExecutionID': None,\n",
       "  'AccountType': 4,\n",
       "  'Symbol': '2168',\n",
       "  'SymbolName': 'パソナグループ',\n",
       "  'Exchange': 1,\n",
       "  'ExchangeName': '東証プ',\n",
       "  'Price': 1749.0,\n",
       "  'LeavesQty': 100.0,\n",
       "  'HoldQty': 0.0,\n",
       "  'Side': '2',\n",
       "  'CurrentPrice': 1402.0,\n",
       "  'Valuation': 140200.0,\n",
       "  'ProfitLoss': -34700.0,\n",
       "  'ProfitLossRate': -19.839908519153802},\n",
       " {'ExecutionID': None,\n",
       "  'AccountType': 4,\n",
       "  'Symbol': '2928',\n",
       "  'SymbolName': 'ＲＩＺＡＰグループ',\n",
       "  'Exchange': 6,\n",
       "  'ExchangeName': '札証ｱﾝﾋﾞｼｬｽ',\n",
       "  'Price': 256.0,\n",
       "  'LeavesQty': 4000.0,\n",
       "  'HoldQty': 0.0,\n",
       "  'Side': '2',\n",
       "  'CurrentPrice': 279.0,\n",
       "  'Valuation': 1116000.0,\n",
       "  'ProfitLoss': 92000.0,\n",
       "  'ProfitLossRate': 8.984375},\n",
       " {'ExecutionID': None,\n",
       "  'AccountType': 4,\n",
       "  'Symbol': '6758',\n",
       "  'SymbolName': 'ソニーグループ',\n",
       "  'Exchange': 1,\n",
       "  'ExchangeName': '東証プ',\n",
       "  'Price': 13034.0,\n",
       "  'LeavesQty': 100.0,\n",
       "  'HoldQty': 100.0,\n",
       "  'Side': '2',\n",
       "  'CurrentPrice': 13085.0,\n",
       "  'Valuation': 1308500.0,\n",
       "  'ProfitLoss': 5100.0,\n",
       "  'ProfitLossRate': 0.39128433328218504},\n",
       " {'ExecutionID': None,\n",
       "  'AccountType': 4,\n",
       "  'Symbol': '6993',\n",
       "  'SymbolName': '大黒屋ホールディングス',\n",
       "  'Exchange': 1,\n",
       "  'ExchangeName': '東証ス',\n",
       "  'Price': 58.0,\n",
       "  'LeavesQty': 10000.0,\n",
       "  'HoldQty': 0.0,\n",
       "  'Side': '2',\n",
       "  'CurrentPrice': 45.0,\n",
       "  'Valuation': 450000.0,\n",
       "  'ProfitLoss': -130000.0,\n",
       "  'ProfitLossRate': -22.413793103448278},\n",
       " {'ExecutionID': None,\n",
       "  'AccountType': 4,\n",
       "  'Symbol': '7012',\n",
       "  'SymbolName': '川崎重工業',\n",
       "  'Exchange': 1,\n",
       "  'ExchangeName': '東証プ',\n",
       "  'Price': 3919.0,\n",
       "  'LeavesQty': 400.0,\n",
       "  'HoldQty': 0.0,\n",
       "  'Side': '2',\n",
       "  'CurrentPrice': 3453.0,\n",
       "  'Valuation': 1381200.0,\n",
       "  'ProfitLoss': -186400.0,\n",
       "  'ProfitLossRate': -11.890788466445521},\n",
       " {'ExecutionID': None,\n",
       "  'AccountType': 4,\n",
       "  'Symbol': '7013',\n",
       "  'SymbolName': 'ＩＨＩ',\n",
       "  'Exchange': 1,\n",
       "  'ExchangeName': '東証プ',\n",
       "  'Price': 3295.0,\n",
       "  'LeavesQty': 600.0,\n",
       "  'HoldQty': 0.0,\n",
       "  'Side': '2',\n",
       "  'CurrentPrice': 3002.0,\n",
       "  'Valuation': 1801200.0,\n",
       "  'ProfitLoss': -175800.0,\n",
       "  'ProfitLossRate': -8.89226100151745},\n",
       " {'ExecutionID': None,\n",
       "  'AccountType': 4,\n",
       "  'Symbol': '7752',\n",
       "  'SymbolName': 'リコー',\n",
       "  'Exchange': 1,\n",
       "  'ExchangeName': '東証プ',\n",
       "  'Price': 1214.0,\n",
       "  'LeavesQty': 700.0,\n",
       "  'HoldQty': 0.0,\n",
       "  'Side': '2',\n",
       "  'CurrentPrice': 1255.5,\n",
       "  'Valuation': 878850.0,\n",
       "  'ProfitLoss': 29050.0,\n",
       "  'ProfitLossRate': 3.4184514003294892},\n",
       " {'ExecutionID': None,\n",
       "  'AccountType': 4,\n",
       "  'Symbol': '8316',\n",
       "  'SymbolName': '三井住友フィナンシャルグループ',\n",
       "  'Exchange': 1,\n",
       "  'ExchangeName': '東証プ',\n",
       "  'Price': 6309.0,\n",
       "  'LeavesQty': 100.0,\n",
       "  'HoldQty': 0.0,\n",
       "  'Side': '2',\n",
       "  'CurrentPrice': 7340.0,\n",
       "  'Valuation': 734000.0,\n",
       "  'ProfitLoss': 103100.0,\n",
       "  'ProfitLossRate': 16.341734030749723},\n",
       " {'ExecutionID': None,\n",
       "  'AccountType': 4,\n",
       "  'Symbol': '9101',\n",
       "  'SymbolName': '日本郵船',\n",
       "  'Exchange': 1,\n",
       "  'ExchangeName': '東証プ',\n",
       "  'Price': 3131.0,\n",
       "  'LeavesQty': 200.0,\n",
       "  'HoldQty': 0.0,\n",
       "  'Side': '2',\n",
       "  'CurrentPrice': 3594.0,\n",
       "  'Valuation': 718800.0,\n",
       "  'ProfitLoss': 92600.0,\n",
       "  'ProfitLossRate': 14.787607793037369},\n",
       " {'ExecutionID': None,\n",
       "  'AccountType': 4,\n",
       "  'Symbol': '9119',\n",
       "  'SymbolName': '飯野海運',\n",
       "  'Exchange': 1,\n",
       "  'ExchangeName': '東証プ',\n",
       "  'Price': 1089.0,\n",
       "  'LeavesQty': 1100.0,\n",
       "  'HoldQty': 0.0,\n",
       "  'Side': '2',\n",
       "  'CurrentPrice': 1155.0,\n",
       "  'Valuation': 1270500.0,\n",
       "  'ProfitLoss': 72600.0,\n",
       "  'ProfitLossRate': 6.0606060606060606},\n",
       " {'ExecutionID': None,\n",
       "  'AccountType': 4,\n",
       "  'Symbol': '9142',\n",
       "  'SymbolName': '九州旅客鉄道',\n",
       "  'Exchange': 1,\n",
       "  'ExchangeName': '東証プ',\n",
       "  'Price': 3033.0,\n",
       "  'LeavesQty': 200.0,\n",
       "  'HoldQty': 0.0,\n",
       "  'Side': '2',\n",
       "  'CurrentPrice': 3128.0,\n",
       "  'Valuation': 625600.0,\n",
       "  'ProfitLoss': 19000.0,\n",
       "  'ProfitLossRate': 3.1322123310253875},\n",
       " {'ExecutionID': None,\n",
       "  'AccountType': 4,\n",
       "  'Symbol': '9501',\n",
       "  'SymbolName': '東京電力ホールディングス',\n",
       "  'Exchange': 1,\n",
       "  'ExchangeName': '東証プ',\n",
       "  'Price': 616.0,\n",
       "  'LeavesQty': 1700.0,\n",
       "  'HoldQty': 0.0,\n",
       "  'Side': '2',\n",
       "  'CurrentPrice': 690.6,\n",
       "  'Valuation': 1174020.0,\n",
       "  'ProfitLoss': 126820.0,\n",
       "  'ProfitLossRate': 12.11038961038961},\n",
       " {'ExecutionID': None,\n",
       "  'AccountType': 4,\n",
       "  'Symbol': '9503',\n",
       "  'SymbolName': '関西電力',\n",
       "  'Exchange': 1,\n",
       "  'ExchangeName': '東証プ',\n",
       "  'Price': 2110.0,\n",
       "  'LeavesQty': 700.0,\n",
       "  'HoldQty': 0.0,\n",
       "  'Side': '2',\n",
       "  'CurrentPrice': 2014.5,\n",
       "  'Valuation': 1410150.0,\n",
       "  'ProfitLoss': -66850.0,\n",
       "  'ProfitLossRate': -4.5260663507109005}]"
      ]
     },
     "execution_count": 7,
     "metadata": {},
     "output_type": "execute_result"
    }
   ],
   "source": [
    "positions"
   ]
  },
  {
   "cell_type": "code",
   "execution_count": 11,
   "id": "09ba80ac-a8e6-40c1-8099-559d46b52b8d",
   "metadata": {
    "editable": true,
    "scrolled": true,
    "slideshow": {
     "slide_type": ""
    },
    "tags": []
   },
   "outputs": [
    {
     "name": "stdout",
     "output_type": "stream",
     "text": [
      "[(None, 4, '2168', 'パソナグループ', 1, '東証プ', 1749.0, 100.0, 0.0, '2', 1402.0, 140200.0, -34700.0, -19.839908519153802), (None, 4, '2928', 'ＲＩＺＡＰグループ', 6, '札証ｱﾝﾋﾞｼｬｽ', 256.0, 4000.0, 0.0, '2', 279.0, 1116000.0, 92000.0, 8.984375), (None, 4, '6758', 'ソニーグループ', 1, '東証プ', 13034.0, 100.0, 100.0, '2', 13085.0, 1308500.0, 5100.0, 0.39128433328218504), (None, 4, '6993', '大黒屋ホールディングス', 1, '東証ス', 58.0, 10000.0, 0.0, '2', 45.0, 450000.0, -130000.0, -22.413793103448278), (None, 4, '7012', '川崎重工業', 1, '東証プ', 3919.0, 400.0, 0.0, '2', 3453.0, 1381200.0, -186400.0, -11.890788466445521), (None, 4, '7013', 'ＩＨＩ', 1, '東証プ', 3295.0, 600.0, 0.0, '2', 3002.0, 1801200.0, -175800.0, -8.89226100151745), (None, 4, '7752', 'リコー', 1, '東証プ', 1214.0, 700.0, 0.0, '2', 1255.5, 878850.0, 29050.0, 3.4184514003294892), (None, 4, '8316', '三井住友フィナンシャルグループ', 1, '東証プ', 6309.0, 100.0, 0.0, '2', 7340.0, 734000.0, 103100.0, 16.341734030749723), (None, 4, '9101', '日本郵船', 1, '東証プ', 3131.0, 200.0, 0.0, '2', 3594.0, 718800.0, 92600.0, 14.787607793037369), (None, 4, '9119', '飯野海運', 1, '東証プ', 1089.0, 1100.0, 0.0, '2', 1155.0, 1270500.0, 72600.0, 6.0606060606060606), (None, 4, '9142', '九州旅客鉄道', 1, '東証プ', 3033.0, 200.0, 0.0, '2', 3128.0, 625600.0, 19000.0, 3.1322123310253875), (None, 4, '9501', '東京電力ホールディングス', 1, '東証プ', 616.0, 1700.0, 0.0, '2', 690.6, 1174020.0, 126820.0, 12.11038961038961), (None, 4, '9503', '関西電力', 1, '東証プ', 2110.0, 700.0, 0.0, '2', 2014.5, 1410150.0, -66850.0, -4.5260663507109005)]\n"
     ]
    }
   ],
   "source": [
    "# MySQL db table positionsにpositionsリスト更新登録\n",
    "    \n",
    "values =  [ tuple(apos.values()) for apos in positions]\n",
    "#values.append(False)\n",
    "print(values)\n",
    "sql = ('''\n",
    "INSERT INTO stock_stock \n",
    "        (ExecutionID, AccountType, Symbol, SymbolName, Exchange, ExchangeName, Price, \\\n",
    "        LeavesQty, HoldQty, Side, CurrentPrice, Valuation, ProfitLoss, ProfitLossRate)\n",
    "VALUES \n",
    "        (%s, %s, %s, %s, %s,%s, %s, %s, %s, %s,%s, %s, %s, %s)\n",
    "ON DUPLICATE KEY UPDATE\n",
    "''')\n",
    "\n",
    "connection.commit()\n"
   ]
  },
  {
   "cell_type": "code",
   "execution_count": 12,
   "id": "c988f8b3-f6aa-41a2-9da7-51069d8a7466",
   "metadata": {
    "editable": true,
    "scrolled": true,
    "slideshow": {
     "slide_type": ""
    },
    "tags": []
   },
   "outputs": [
    {
     "ename": "ProgrammingError",
     "evalue": "(1064, \"You have an error in your SQL syntax; check the manual that corresponds to your MySQL server version for the right syntax to use near '' at line 5\")",
     "output_type": "error",
     "traceback": [
      "\u001b[1;31m---------------------------------------------------------------------------\u001b[0m",
      "\u001b[1;31mProgrammingError\u001b[0m                          Traceback (most recent call last)",
      "Cell \u001b[1;32mIn[12], line 2\u001b[0m\n\u001b[0;32m      1\u001b[0m values\n\u001b[1;32m----> 2\u001b[0m \u001b[43mcur\u001b[49m\u001b[38;5;241;43m.\u001b[39;49m\u001b[43mexecutemany\u001b[49m\u001b[43m(\u001b[49m\u001b[43msql\u001b[49m\u001b[43m,\u001b[49m\u001b[43m \u001b[49m\u001b[43mvalues\u001b[49m\u001b[43m)\u001b[49m\n",
      "File \u001b[1;32m~\\AppData\\Roaming\\jupyterlab-desktop\\jlab_server\\lib\\site-packages\\pymysql\\cursors.py:182\u001b[0m, in \u001b[0;36mCursor.executemany\u001b[1;34m(self, query, args)\u001b[0m\n\u001b[0;32m    180\u001b[0m     q_postfix \u001b[38;5;241m=\u001b[39m m\u001b[38;5;241m.\u001b[39mgroup(\u001b[38;5;241m3\u001b[39m) \u001b[38;5;129;01mor\u001b[39;00m \u001b[38;5;124m\"\u001b[39m\u001b[38;5;124m\"\u001b[39m\n\u001b[0;32m    181\u001b[0m     \u001b[38;5;28;01massert\u001b[39;00m q_values[\u001b[38;5;241m0\u001b[39m] \u001b[38;5;241m==\u001b[39m \u001b[38;5;124m\"\u001b[39m\u001b[38;5;124m(\u001b[39m\u001b[38;5;124m\"\u001b[39m \u001b[38;5;129;01mand\u001b[39;00m q_values[\u001b[38;5;241m-\u001b[39m\u001b[38;5;241m1\u001b[39m] \u001b[38;5;241m==\u001b[39m \u001b[38;5;124m\"\u001b[39m\u001b[38;5;124m)\u001b[39m\u001b[38;5;124m\"\u001b[39m\n\u001b[1;32m--> 182\u001b[0m     \u001b[38;5;28;01mreturn\u001b[39;00m \u001b[38;5;28;43mself\u001b[39;49m\u001b[38;5;241;43m.\u001b[39;49m\u001b[43m_do_execute_many\u001b[49m\u001b[43m(\u001b[49m\n\u001b[0;32m    183\u001b[0m \u001b[43m        \u001b[49m\u001b[43mq_prefix\u001b[49m\u001b[43m,\u001b[49m\n\u001b[0;32m    184\u001b[0m \u001b[43m        \u001b[49m\u001b[43mq_values\u001b[49m\u001b[43m,\u001b[49m\n\u001b[0;32m    185\u001b[0m \u001b[43m        \u001b[49m\u001b[43mq_postfix\u001b[49m\u001b[43m,\u001b[49m\n\u001b[0;32m    186\u001b[0m \u001b[43m        \u001b[49m\u001b[43margs\u001b[49m\u001b[43m,\u001b[49m\n\u001b[0;32m    187\u001b[0m \u001b[43m        \u001b[49m\u001b[38;5;28;43mself\u001b[39;49m\u001b[38;5;241;43m.\u001b[39;49m\u001b[43mmax_stmt_length\u001b[49m\u001b[43m,\u001b[49m\n\u001b[0;32m    188\u001b[0m \u001b[43m        \u001b[49m\u001b[38;5;28;43mself\u001b[39;49m\u001b[38;5;241;43m.\u001b[39;49m\u001b[43m_get_db\u001b[49m\u001b[43m(\u001b[49m\u001b[43m)\u001b[49m\u001b[38;5;241;43m.\u001b[39;49m\u001b[43mencoding\u001b[49m\u001b[43m,\u001b[49m\n\u001b[0;32m    189\u001b[0m \u001b[43m    \u001b[49m\u001b[43m)\u001b[49m\n\u001b[0;32m    191\u001b[0m \u001b[38;5;28mself\u001b[39m\u001b[38;5;241m.\u001b[39mrowcount \u001b[38;5;241m=\u001b[39m \u001b[38;5;28msum\u001b[39m(\u001b[38;5;28mself\u001b[39m\u001b[38;5;241m.\u001b[39mexecute(query, arg) \u001b[38;5;28;01mfor\u001b[39;00m arg \u001b[38;5;129;01min\u001b[39;00m args)\n\u001b[0;32m    192\u001b[0m \u001b[38;5;28;01mreturn\u001b[39;00m \u001b[38;5;28mself\u001b[39m\u001b[38;5;241m.\u001b[39mrowcount\n",
      "File \u001b[1;32m~\\AppData\\Roaming\\jupyterlab-desktop\\jlab_server\\lib\\site-packages\\pymysql\\cursors.py:220\u001b[0m, in \u001b[0;36mCursor._do_execute_many\u001b[1;34m(self, prefix, values, postfix, args, max_stmt_length, encoding)\u001b[0m\n\u001b[0;32m    218\u001b[0m         sql \u001b[38;5;241m+\u001b[39m\u001b[38;5;241m=\u001b[39m \u001b[38;5;124mb\u001b[39m\u001b[38;5;124m\"\u001b[39m\u001b[38;5;124m,\u001b[39m\u001b[38;5;124m\"\u001b[39m\n\u001b[0;32m    219\u001b[0m     sql \u001b[38;5;241m+\u001b[39m\u001b[38;5;241m=\u001b[39m v\n\u001b[1;32m--> 220\u001b[0m rows \u001b[38;5;241m+\u001b[39m\u001b[38;5;241m=\u001b[39m \u001b[38;5;28;43mself\u001b[39;49m\u001b[38;5;241;43m.\u001b[39;49m\u001b[43mexecute\u001b[49m\u001b[43m(\u001b[49m\u001b[43msql\u001b[49m\u001b[43m \u001b[49m\u001b[38;5;241;43m+\u001b[39;49m\u001b[43m \u001b[49m\u001b[43mpostfix\u001b[49m\u001b[43m)\u001b[49m\n\u001b[0;32m    221\u001b[0m \u001b[38;5;28mself\u001b[39m\u001b[38;5;241m.\u001b[39mrowcount \u001b[38;5;241m=\u001b[39m rows\n\u001b[0;32m    222\u001b[0m \u001b[38;5;28;01mreturn\u001b[39;00m rows\n",
      "File \u001b[1;32m~\\AppData\\Roaming\\jupyterlab-desktop\\jlab_server\\lib\\site-packages\\pymysql\\cursors.py:153\u001b[0m, in \u001b[0;36mCursor.execute\u001b[1;34m(self, query, args)\u001b[0m\n\u001b[0;32m    149\u001b[0m     \u001b[38;5;28;01mpass\u001b[39;00m\n\u001b[0;32m    151\u001b[0m query \u001b[38;5;241m=\u001b[39m \u001b[38;5;28mself\u001b[39m\u001b[38;5;241m.\u001b[39mmogrify(query, args)\n\u001b[1;32m--> 153\u001b[0m result \u001b[38;5;241m=\u001b[39m \u001b[38;5;28;43mself\u001b[39;49m\u001b[38;5;241;43m.\u001b[39;49m\u001b[43m_query\u001b[49m\u001b[43m(\u001b[49m\u001b[43mquery\u001b[49m\u001b[43m)\u001b[49m\n\u001b[0;32m    154\u001b[0m \u001b[38;5;28mself\u001b[39m\u001b[38;5;241m.\u001b[39m_executed \u001b[38;5;241m=\u001b[39m query\n\u001b[0;32m    155\u001b[0m \u001b[38;5;28;01mreturn\u001b[39;00m result\n",
      "File \u001b[1;32m~\\AppData\\Roaming\\jupyterlab-desktop\\jlab_server\\lib\\site-packages\\pymysql\\cursors.py:322\u001b[0m, in \u001b[0;36mCursor._query\u001b[1;34m(self, q)\u001b[0m\n\u001b[0;32m    320\u001b[0m conn \u001b[38;5;241m=\u001b[39m \u001b[38;5;28mself\u001b[39m\u001b[38;5;241m.\u001b[39m_get_db()\n\u001b[0;32m    321\u001b[0m \u001b[38;5;28mself\u001b[39m\u001b[38;5;241m.\u001b[39m_clear_result()\n\u001b[1;32m--> 322\u001b[0m \u001b[43mconn\u001b[49m\u001b[38;5;241;43m.\u001b[39;49m\u001b[43mquery\u001b[49m\u001b[43m(\u001b[49m\u001b[43mq\u001b[49m\u001b[43m)\u001b[49m\n\u001b[0;32m    323\u001b[0m \u001b[38;5;28mself\u001b[39m\u001b[38;5;241m.\u001b[39m_do_get_result()\n\u001b[0;32m    324\u001b[0m \u001b[38;5;28;01mreturn\u001b[39;00m \u001b[38;5;28mself\u001b[39m\u001b[38;5;241m.\u001b[39mrowcount\n",
      "File \u001b[1;32m~\\AppData\\Roaming\\jupyterlab-desktop\\jlab_server\\lib\\site-packages\\pymysql\\connections.py:558\u001b[0m, in \u001b[0;36mConnection.query\u001b[1;34m(self, sql, unbuffered)\u001b[0m\n\u001b[0;32m    556\u001b[0m     sql \u001b[38;5;241m=\u001b[39m sql\u001b[38;5;241m.\u001b[39mencode(\u001b[38;5;28mself\u001b[39m\u001b[38;5;241m.\u001b[39mencoding, \u001b[38;5;124m\"\u001b[39m\u001b[38;5;124msurrogateescape\u001b[39m\u001b[38;5;124m\"\u001b[39m)\n\u001b[0;32m    557\u001b[0m \u001b[38;5;28mself\u001b[39m\u001b[38;5;241m.\u001b[39m_execute_command(COMMAND\u001b[38;5;241m.\u001b[39mCOM_QUERY, sql)\n\u001b[1;32m--> 558\u001b[0m \u001b[38;5;28mself\u001b[39m\u001b[38;5;241m.\u001b[39m_affected_rows \u001b[38;5;241m=\u001b[39m \u001b[38;5;28;43mself\u001b[39;49m\u001b[38;5;241;43m.\u001b[39;49m\u001b[43m_read_query_result\u001b[49m\u001b[43m(\u001b[49m\u001b[43munbuffered\u001b[49m\u001b[38;5;241;43m=\u001b[39;49m\u001b[43munbuffered\u001b[49m\u001b[43m)\u001b[49m\n\u001b[0;32m    559\u001b[0m \u001b[38;5;28;01mreturn\u001b[39;00m \u001b[38;5;28mself\u001b[39m\u001b[38;5;241m.\u001b[39m_affected_rows\n",
      "File \u001b[1;32m~\\AppData\\Roaming\\jupyterlab-desktop\\jlab_server\\lib\\site-packages\\pymysql\\connections.py:822\u001b[0m, in \u001b[0;36mConnection._read_query_result\u001b[1;34m(self, unbuffered)\u001b[0m\n\u001b[0;32m    820\u001b[0m \u001b[38;5;28;01melse\u001b[39;00m:\n\u001b[0;32m    821\u001b[0m     result \u001b[38;5;241m=\u001b[39m MySQLResult(\u001b[38;5;28mself\u001b[39m)\n\u001b[1;32m--> 822\u001b[0m     \u001b[43mresult\u001b[49m\u001b[38;5;241;43m.\u001b[39;49m\u001b[43mread\u001b[49m\u001b[43m(\u001b[49m\u001b[43m)\u001b[49m\n\u001b[0;32m    823\u001b[0m \u001b[38;5;28mself\u001b[39m\u001b[38;5;241m.\u001b[39m_result \u001b[38;5;241m=\u001b[39m result\n\u001b[0;32m    824\u001b[0m \u001b[38;5;28;01mif\u001b[39;00m result\u001b[38;5;241m.\u001b[39mserver_status \u001b[38;5;129;01mis\u001b[39;00m \u001b[38;5;129;01mnot\u001b[39;00m \u001b[38;5;28;01mNone\u001b[39;00m:\n",
      "File \u001b[1;32m~\\AppData\\Roaming\\jupyterlab-desktop\\jlab_server\\lib\\site-packages\\pymysql\\connections.py:1200\u001b[0m, in \u001b[0;36mMySQLResult.read\u001b[1;34m(self)\u001b[0m\n\u001b[0;32m   1198\u001b[0m \u001b[38;5;28;01mdef\u001b[39;00m \u001b[38;5;21mread\u001b[39m(\u001b[38;5;28mself\u001b[39m):\n\u001b[0;32m   1199\u001b[0m     \u001b[38;5;28;01mtry\u001b[39;00m:\n\u001b[1;32m-> 1200\u001b[0m         first_packet \u001b[38;5;241m=\u001b[39m \u001b[38;5;28;43mself\u001b[39;49m\u001b[38;5;241;43m.\u001b[39;49m\u001b[43mconnection\u001b[49m\u001b[38;5;241;43m.\u001b[39;49m\u001b[43m_read_packet\u001b[49m\u001b[43m(\u001b[49m\u001b[43m)\u001b[49m\n\u001b[0;32m   1202\u001b[0m         \u001b[38;5;28;01mif\u001b[39;00m first_packet\u001b[38;5;241m.\u001b[39mis_ok_packet():\n\u001b[0;32m   1203\u001b[0m             \u001b[38;5;28mself\u001b[39m\u001b[38;5;241m.\u001b[39m_read_ok_packet(first_packet)\n",
      "File \u001b[1;32m~\\AppData\\Roaming\\jupyterlab-desktop\\jlab_server\\lib\\site-packages\\pymysql\\connections.py:772\u001b[0m, in \u001b[0;36mConnection._read_packet\u001b[1;34m(self, packet_type)\u001b[0m\n\u001b[0;32m    770\u001b[0m     \u001b[38;5;28;01mif\u001b[39;00m \u001b[38;5;28mself\u001b[39m\u001b[38;5;241m.\u001b[39m_result \u001b[38;5;129;01mis\u001b[39;00m \u001b[38;5;129;01mnot\u001b[39;00m \u001b[38;5;28;01mNone\u001b[39;00m \u001b[38;5;129;01mand\u001b[39;00m \u001b[38;5;28mself\u001b[39m\u001b[38;5;241m.\u001b[39m_result\u001b[38;5;241m.\u001b[39munbuffered_active \u001b[38;5;129;01mis\u001b[39;00m \u001b[38;5;28;01mTrue\u001b[39;00m:\n\u001b[0;32m    771\u001b[0m         \u001b[38;5;28mself\u001b[39m\u001b[38;5;241m.\u001b[39m_result\u001b[38;5;241m.\u001b[39munbuffered_active \u001b[38;5;241m=\u001b[39m \u001b[38;5;28;01mFalse\u001b[39;00m\n\u001b[1;32m--> 772\u001b[0m     \u001b[43mpacket\u001b[49m\u001b[38;5;241;43m.\u001b[39;49m\u001b[43mraise_for_error\u001b[49m\u001b[43m(\u001b[49m\u001b[43m)\u001b[49m\n\u001b[0;32m    773\u001b[0m \u001b[38;5;28;01mreturn\u001b[39;00m packet\n",
      "File \u001b[1;32m~\\AppData\\Roaming\\jupyterlab-desktop\\jlab_server\\lib\\site-packages\\pymysql\\protocol.py:221\u001b[0m, in \u001b[0;36mMysqlPacket.raise_for_error\u001b[1;34m(self)\u001b[0m\n\u001b[0;32m    219\u001b[0m \u001b[38;5;28;01mif\u001b[39;00m DEBUG:\n\u001b[0;32m    220\u001b[0m     \u001b[38;5;28mprint\u001b[39m(\u001b[38;5;124m\"\u001b[39m\u001b[38;5;124merrno =\u001b[39m\u001b[38;5;124m\"\u001b[39m, errno)\n\u001b[1;32m--> 221\u001b[0m \u001b[43merr\u001b[49m\u001b[38;5;241;43m.\u001b[39;49m\u001b[43mraise_mysql_exception\u001b[49m\u001b[43m(\u001b[49m\u001b[38;5;28;43mself\u001b[39;49m\u001b[38;5;241;43m.\u001b[39;49m\u001b[43m_data\u001b[49m\u001b[43m)\u001b[49m\n",
      "File \u001b[1;32m~\\AppData\\Roaming\\jupyterlab-desktop\\jlab_server\\lib\\site-packages\\pymysql\\err.py:143\u001b[0m, in \u001b[0;36mraise_mysql_exception\u001b[1;34m(data)\u001b[0m\n\u001b[0;32m    141\u001b[0m \u001b[38;5;28;01mif\u001b[39;00m errorclass \u001b[38;5;129;01mis\u001b[39;00m \u001b[38;5;28;01mNone\u001b[39;00m:\n\u001b[0;32m    142\u001b[0m     errorclass \u001b[38;5;241m=\u001b[39m InternalError \u001b[38;5;28;01mif\u001b[39;00m errno \u001b[38;5;241m<\u001b[39m \u001b[38;5;241m1000\u001b[39m \u001b[38;5;28;01melse\u001b[39;00m OperationalError\n\u001b[1;32m--> 143\u001b[0m \u001b[38;5;28;01mraise\u001b[39;00m errorclass(errno, errval)\n",
      "\u001b[1;31mProgrammingError\u001b[0m: (1064, \"You have an error in your SQL syntax; check the manual that corresponds to your MySQL server version for the right syntax to use near '' at line 5\")"
     ]
    }
   ],
   "source": [
    "values\n",
    "cur.executemany(sql, values)"
   ]
  },
  {
   "cell_type": "code",
   "execution_count": 6,
   "id": "cc8e59d0-5769-47cd-8053-a1854acac0aa",
   "metadata": {
    "editable": true,
    "scrolled": true,
    "slideshow": {
     "slide_type": ""
    },
    "tags": []
   },
   "outputs": [
    {
     "ename": "NameError",
     "evalue": "name 'insertAposition' is not defined",
     "output_type": "error",
     "traceback": [
      "\u001b[1;31m---------------------------------------------------------------------------\u001b[0m",
      "\u001b[1;31mNameError\u001b[0m                                 Traceback (most recent call last)",
      "Cell \u001b[1;32mIn[6], line 3\u001b[0m\n\u001b[0;32m      1\u001b[0m connection\u001b[38;5;241m.\u001b[39mcommit()\n\u001b[1;32m----> 3\u001b[0m \u001b[43minsertAposition\u001b[49m(positions)\n",
      "\u001b[1;31mNameError\u001b[0m: name 'insertAposition' is not defined"
     ]
    }
   ],
   "source": [
    "connection.commit()\n",
    "\n",
    "insertAposition(positions)"
   ]
  },
  {
   "cell_type": "code",
   "execution_count": null,
   "id": "14d3b90a-dc06-4cd3-afea-439333f19550",
   "metadata": {
    "editable": true,
    "scrolled": true,
    "slideshow": {
     "slide_type": ""
    },
    "tags": []
   },
   "outputs": [],
   "source": [
    "# MySQL db table positionsにpositionsリスト更新登録\n",
    "def insertAposition( positions ):\n",
    "\n",
    "    \n",
    "    values =  [ tuple(apos.values()) for apos in positions]\n",
    "\n",
    "    sql = ('''\n",
    "    INSERT INTO stock_stock \n",
    "        (ExecutionID, AccountType, Symbol, SymbolName, Exchange, ExchangeName, Price, \\\n",
    "        LeavesQty, HoldQty, Side, CurrentPrice, Valuation, ProfitLoss, ProfitLossRate)\n",
    "    VALUES \n",
    "        (%s, %s, %s, %s, %s,%s, %s, %s, %s, %s,%s, %s, %s, %s)\n",
    "    ''')\n",
    "\n",
    "    cur.executemany(sql, values)\n",
    "    connection.commit()\n",
    "\n",
    "insertAposition(positions)"
   ]
  },
  {
   "cell_type": "code",
   "execution_count": null,
   "id": "ec8aa3f6-d86c-41d5-aaf0-41e31013784e",
   "metadata": {},
   "outputs": [],
   "source": [
    "\n",
    "       # データ読み込み\n",
    "sql = \"SELECT * FROM `positions`\"\n",
    "cur.execute(sql)\n",
    "result = cursor.fetchall()\n",
    "print(result)"
   ]
  },
  {
   "cell_type": "code",
   "execution_count": null,
   "id": "6c001069-2577-4b5b-898a-967e66e75d9e",
   "metadata": {},
   "outputs": [],
   "source": [
    "       # データ消去\n",
    "sql = \"TRUNCATE TABLE `positions`\"\n",
    "cur.execute(sql)\n",
    "result = cursor.fetchall()\n",
    "print(result)"
   ]
  },
  {
   "cell_type": "code",
   "execution_count": null,
   "id": "c0323447-fd77-459d-90c3-edafb078bde4",
   "metadata": {},
   "outputs": [],
   "source": []
  }
 ],
 "metadata": {
  "kernelspec": {
   "display_name": "Python 3 (ipykernel)",
   "language": "python",
   "name": "python3"
  },
  "language_info": {
   "codemirror_mode": {
    "name": "ipython",
    "version": 3
   },
   "file_extension": ".py",
   "mimetype": "text/x-python",
   "name": "python",
   "nbconvert_exporter": "python",
   "pygments_lexer": "ipython3",
   "version": "3.8.13"
  }
 },
 "nbformat": 4,
 "nbformat_minor": 5
}
