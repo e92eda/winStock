{
 "cells": [
  {
   "cell_type": "code",
   "execution_count": null,
   "id": "e761be4b-389e-4718-9578-c28d276112cb",
   "metadata": {
    "jupyter": {
     "source_hidden": true
    },
    "tags": []
   },
   "outputs": [],
   "source": [
    "#  MySQL へLocal接続\n",
    "#!pip install PyMySQL\n",
    "\n",
    "import pymysql\n",
    "\n",
    "#　mySQL stockdbローカル接続\n",
    "\n",
    "connection = pymysql.connect(host='localhost',\n",
    "                             user='kunieda',\n",
    "                             password='Taro.92eda',\n",
    "                             db='stockdb',\n",
    "                             charset='utf8mb4',\n",
    "                             cursorclass=pymysql.cursors.DictCursor)\n",
    "\n",
    "cur = connection.cursor()\n",
    "connection"
   ]
  },
  {
   "cell_type": "code",
   "execution_count": null,
   "id": "a1b208a4-5d29-4f94-9ba6-f62589cb373a",
   "metadata": {
    "jupyter": {
     "source_hidden": true
    },
    "tags": []
   },
   "outputs": [],
   "source": [
    "#  さくらMySQL へRemote接続\n",
    "#!pip install PyMySQL\n",
    "\n",
    "import pymysql\n",
    "\n",
    "#　mySQL stockdb\n",
    "\n",
    "connection = pymysql.connect(host='ik1-129-71250.vs.sakura.ne.jp',\n",
    "                             user='kunieda',\n",
    "                             password='Taro.92eda',\n",
    "                             db='stockdb',\n",
    "                             charset='utf8mb4',\n",
    "                             cursorclass=pymysql.cursors.DictCursor)\n",
    "\n",
    "cur = connection.cursor()\n",
    "connection"
   ]
  },
  {
   "cell_type": "code",
   "execution_count": null,
   "id": "f04e5949-5077-492e-9376-e19e3878189d",
   "metadata": {
    "tags": []
   },
   "outputs": [],
   "source": [
    "# Kabu station API test\n",
    "# 2023/9/28\n",
    "# E.Kunieda\n",
    "\n",
    "import urllib.request\n",
    "import json\n",
    "import pprint\n",
    "import time, datetime\n",
    "\n",
    "# トークン発行\n",
    "\n",
    "def generate_token():# トークン発行\n",
    "    obj = { 'APIPassword': 'e2092eda' }\n",
    "    json_data = json.dumps(obj).encode('utf8')\n",
    "    \n",
    "    url = 'http://localhost:18080/kabusapi/token'\n",
    "    req = urllib.request.Request(url, json_data, method='POST')\n",
    "    req.add_header('Content-Type', 'application/json')\n",
    "    \n",
    "    try:\n",
    "        with urllib.request.urlopen(req) as res:\n",
    "            content = json.loads(res.read())\n",
    "            token_value = content.get('Token')\n",
    "            pprint.pprint(token_value)\n",
    "    except urllib.error.HTTPError as e:\n",
    "        print(e)\n",
    "        content = json.loads(e.read())\n",
    "        pprint.pprint(content)\n",
    "    return token_value\n",
    "    \n",
    "   \n",
    "def get_positions(token):    # 残高照会\n",
    "    url_symbol = 'http://localhost:18080/kabusapi/positions'\n",
    "    req_symbol = urllib.request.Request(url_symbol, method='GET')\n",
    "    req_symbol.add_header('X-API-KEY', token)\n",
    "    \n",
    "    try:\n",
    "        with urllib.request.urlopen(req_symbol) as res_symbol:\n",
    "            content_symbol = json.loads(res_symbol.read())\n",
    "#            pprint.pprint(content_symbol)\n",
    "    except urllib.error.HTTPError as e_symbol:\n",
    "        print(e_symbol)\n",
    "        content_symbol = json.loads(e_symbol.read())\n",
    "    return content_symbol\n",
    "   \n",
    "    # トークン発行\n",
    "token_value = generate_token()\n",
    "# 残高照会\n",
    "positions = get_positions(token_value)\n",
    "\n",
    "for apos in positions:\n",
    "    pprint.pprint(apos['SymbolName'])"
   ]
  },
  {
   "cell_type": "code",
   "execution_count": null,
   "id": "6ca8e537-a0e8-48d3-8ad8-72bd9d3f219f",
   "metadata": {
    "tags": []
   },
   "outputs": [],
   "source": []
  },
  {
   "cell_type": "code",
   "execution_count": null,
   "id": "2689b699-ead0-496a-b81a-49159e9e4883",
   "metadata": {
    "tags": []
   },
   "outputs": [],
   "source": [
    "# SQLを操作する\n",
    "\n",
    "result = cur.execute('select * from stock_stock')\n",
    "\n",
    "if result != 0:\n",
    "    with connection.cursor() as cursor:\n",
    "        sql = \"TRUNCATE table stock_stock;\"\n",
    "        cursor.execute(sql)\n",
    "    \n",
    "    connection.commit()\n",
    "    print(\"*Data Deleted*\")    \n",
    "\n",
    "cur = connection.cursor()\n",
    "result = cur.execute('select * from stock_stock')\n",
    "result\n"
   ]
  },
  {
   "cell_type": "code",
   "execution_count": null,
   "id": "4fac83b8-4bca-483a-a9db-9e19c8db2345",
   "metadata": {},
   "outputs": [],
   "source": [
    "positions"
   ]
  },
  {
   "cell_type": "code",
   "execution_count": 41,
   "id": "1a425cf4-2e0a-4423-8fa8-e4fde2c54d63",
   "metadata": {
    "editable": true,
    "slideshow": {
     "slide_type": ""
    },
    "tags": []
   },
   "outputs": [
    {
     "name": "stdout",
     "output_type": "stream",
     "text": [
      "[(None, 4, '1003', 'パソナグループ', 1, '東証プ', 1749.0, 100.0, 0.0, '2', 1742.0, 174200.0, -700.0, -0.40022870211549455, True, 7, 'day', 10, datetime.datetime(2023, 11, 15, 21, 47, 25, 429549), datetime.datetime(2023, 11, 15, 21, 47, 25, 429549)), (None, 4, '1002', 'ＲＩＺＡＰグループ', 6, '札証ｱﾝﾋﾞｼｬｽ', 256.0, 4000.0, 0.0, '2', 304.0, 1216000.0, 192000.0, 18.75, True, 6, 'day', 10, datetime.datetime(2023, 11, 15, 21, 47, 25, 429549), datetime.datetime(2023, 11, 15, 21, 47, 25, 429549))]\n"
     ]
    }
   ],
   "source": [
    "### MySQL db table positionsリスト更新登録 簡易テスト\n",
    "import datetime\n",
    "now = datetime.datetime.now()\n",
    "\n",
    "values =  [(None, 4, '1003', 'パソナグループ', 1, '東証プ', 1749.0, 100.0, 0.0, '2', 1742.0, 174200.0, -700.0, -0.40022870211549455, True, 7, \"day\", 10, now, now),\n",
    "        (None, 4, '1002', 'ＲＩＺＡＰグループ', 6, '札証ｱﾝﾋﾞｼｬｽ', 256.0, 4000.0, 0.0, '2', 304.0, 1216000.0, 192000.0, 18.75, True, 6, \"day\", 10, now, now)\n",
    "          ]\n",
    "#values.append(False)\n",
    "print(values)\n",
    "sql = ('''\n",
    "INSERT INTO stock_stock \n",
    "        (ExecutionID, AccountType, Symbol, SymbolName, Exchange, ExchangeName, Price, LeavesQty, HoldQty, Side, CurrentPrice, Valuation, ProfitLoss, ProfitLossRate,holding, period,period_type,user_id,\n",
    "        created_at, updated_at)\n",
    "VALUES \n",
    "        (%s, %s, %s, %s,%s, %s, %s, %s, %s,%s, %s, %s, %s,%s,%s,%s, %s, %s, %s, %s)\n",
    "ON DUPLICATE KEY UPDATE \n",
    "        holding = VALUES(holding),\n",
    "        SymbolName = VALUES(SymbolName),\n",
    "        updated_at = VALUES(updated_at)\n",
    "''')"
   ]
  },
  {
   "cell_type": "code",
   "execution_count": null,
   "id": "e0dbb167-d41a-425a-8e58-7c5a6edd7e76",
   "metadata": {
    "editable": true,
    "slideshow": {
     "slide_type": ""
    },
    "tags": []
   },
   "outputs": [],
   "source": []
  },
  {
   "cell_type": "code",
   "execution_count": null,
   "id": "ba832f9a-10d7-4515-95b3-f41199acd43b",
   "metadata": {
    "editable": true,
    "scrolled": true,
    "slideshow": {
     "slide_type": ""
    },
    "tags": []
   },
   "outputs": [],
   "source": [
    "# MySQL db table positionsにpositionsリスト更新登録\n",
    "    \n",
    "values =  [ tuple(apos.values()) for apos in positions]\n",
    "#values.append(False)\n",
    "print(values)\n",
    "sql = ('''\n",
    "INSERT INTO stock_stock \n",
    "        (ExecutionID, AccountType, Symbol, SymbolName, Exchange, ExchangeName, Price, \\\n",
    "        LeavesQty, HoldQty, Side, CurrentPrice, Valuation, ProfitLoss, ProfitLossRate)\n",
    "VALUES \n",
    "        (%s, %s, %s, %s, %s,%s, %s, %s, %s, %s,%s, %s, %s, %s, %s, %s)\n",
    "ON DUPLICATE KEY UPDATE\n",
    "''')\n",
    "\n",
    "connection.commit()"
   ]
  },
  {
   "cell_type": "code",
   "execution_count": null,
   "id": "1fc5b33b-5d20-4fe9-8600-3e8e2b9a5ef3",
   "metadata": {
    "editable": true,
    "scrolled": true,
    "slideshow": {
     "slide_type": ""
    },
    "tags": []
   },
   "outputs": [],
   "source": []
  },
  {
   "cell_type": "code",
   "execution_count": null,
   "id": "e7c59bc9-a26f-4326-8801-fe9ea821ba0d",
   "metadata": {
    "editable": true,
    "slideshow": {
     "slide_type": ""
    },
    "tags": []
   },
   "outputs": [],
   "source": [
    "# MySQL db table positionsにpositionsリスト更新登録２\n",
    "values = []\n",
    "for apos in positions:\n",
    "    apost = tuple(apos.values()) \n",
    "    apostt = apost\n",
    "    \n",
    "    values.append(apostt)\n",
    "    \n",
    "print(values)\n",
    "sql = ('''\n",
    "INSERT INTO stock_stock \n",
    "        (ExecutionID, AccountType, Symbol, SymbolName, Exchange, ExchangeName, Price, \\\n",
    "        LeavesQty, HoldQty, Side, CurrentPrice, Valuation, ProfitLoss, ProfitLossRate)\n",
    "VALUES \n",
    "        (%s, %s, %s, %s, %s,%s, %s, %s, %s, %s,%s, %s, %s, %s)\n",
    "ON DUPLICATE KEY UPDATE\n",
    "''')\n",
    "\n",
    "connection.commit()\n"
   ]
  },
  {
   "cell_type": "code",
   "execution_count": 42,
   "id": "c988f8b3-f6aa-41a2-9da7-51069d8a7466",
   "metadata": {
    "editable": true,
    "scrolled": true,
    "slideshow": {
     "slide_type": ""
    },
    "tags": []
   },
   "outputs": [],
   "source": [
    "cur.executemany(sql, values)\n",
    "connection.commit()"
   ]
  },
  {
   "cell_type": "code",
   "execution_count": null,
   "id": "cc8e59d0-5769-47cd-8053-a1854acac0aa",
   "metadata": {
    "editable": true,
    "scrolled": true,
    "slideshow": {
     "slide_type": ""
    },
    "tags": []
   },
   "outputs": [],
   "source": [
    "\n",
    "\n"
   ]
  },
  {
   "cell_type": "code",
   "execution_count": null,
   "id": "14d3b90a-dc06-4cd3-afea-439333f19550",
   "metadata": {
    "editable": true,
    "scrolled": true,
    "slideshow": {
     "slide_type": ""
    },
    "tags": []
   },
   "outputs": [],
   "source": [
    "# MySQL db table positionsにpositionsリスト更新登録\n",
    "def insertAposition( positions ):\n",
    "\n",
    "    \n",
    "    values =  [ tuple(apos.values()) for apos in positions]\n",
    "\n",
    "    sql = ('''\n",
    "    INSERT INTO stock_stock \n",
    "        (ExecutionID, AccountType, Symbol, SymbolName, Exchange, ExchangeName, Price, \\\n",
    "        LeavesQty, HoldQty, Side, CurrentPrice, Valuation, ProfitLoss, ProfitLossRate)\n",
    "    VALUES \n",
    "        (%s, %s, %s, %s, %s,%s, %s, %s, %s, %s,%s, %s, %s, %s)\n",
    "    ''')\n",
    "\n",
    "    cur.executemany(sql, values)\n",
    "    connection.commit()\n",
    "\n",
    "insertAposition(positions)"
   ]
  },
  {
   "cell_type": "code",
   "execution_count": null,
   "id": "ec8aa3f6-d86c-41d5-aaf0-41e31013784e",
   "metadata": {
    "jupyter": {
     "source_hidden": true
    }
   },
   "outputs": [],
   "source": [
    "\n",
    "       # データ読み込み\n",
    "sql = \"SELECT * FROM `positions`\"\n",
    "cur.execute(sql)\n",
    "result = cursor.fetchall()\n",
    "print(result)"
   ]
  },
  {
   "cell_type": "code",
   "execution_count": null,
   "id": "6c001069-2577-4b5b-898a-967e66e75d9e",
   "metadata": {
    "jupyter": {
     "source_hidden": true
    }
   },
   "outputs": [],
   "source": [
    "       # データ消去\n",
    "sql = \"TRUNCATE TABLE `positions`\"\n",
    "cur.execute(sql)\n",
    "result = cursor.fetchall()\n",
    "print(result)"
   ]
  },
  {
   "cell_type": "code",
   "execution_count": null,
   "id": "c0323447-fd77-459d-90c3-edafb078bde4",
   "metadata": {},
   "outputs": [],
   "source": [
    "[(None, 4, '2168', 'パソナグループ', 1, '東証プ', 1749.0, 100.0, 0.0, '2', 1742.0, 174200.0, -700.0, -0.40022870211549455, True, 7, 'day', 1, '2023-11-15 22:14:58.184286', '2023-11-15 22:14:58.184286'), (None, 4, '2928', 'ＲＩＺＡＰグループ', 6, '札証ｱﾝﾋﾞｼｬｽ', 256.0, 4000.0, 0.0, '2', 304.0, 1216000.0, 192000.0, 18.75, True, 7, 'day', 1, '2023-11-15 22:14:58.184286', '2023-11-15 22:14:58.184286'), (None, 4, '6758', 'ソニーグループ', 1, '東証プ', 13034.0, 100.0, 100.0, '2', 13220.0, 1322000.0, 18600.0, 1.427036980205616, True, 7, 'day', 1, '2023-11-15 22:14:58.184286', '2023-11-15 22:14:58.184286'), (None, 4, '6993', '大黒屋ホールディングス', 1, '東証ス', 58.0, 10000.0, 0.0, '2', 43.0, 430000.0, -150000.0, -25.862068965517242, True, 7, 'day', 1, '2023-11-15 22:14:58.184286', '2023-11-15 22:14:58.184286'), (None, 4, '7012', '川崎重工業', 1, '東証プ', 3919.0, 400.0, 0.0, '2', 3385.0, 1354000.0, -213600.0, -13.625924980862465, True, 7, 'day', 1, '2023-11-15 22:14:58.184286', '2023-11-15 22:14:58.184286'), (None, 4, '7013', 'ＩＨＩ', 1, '東証プ', 3295.0, 600.0, 0.0, '2', 2870.0, 1722000.0, -255000.0, -12.898330804248863, True, 7, 'day', 1, '2023-11-15 22:14:58.184286', '2023-11-15 22:14:58.184286'), (None, 4, '7752', 'リコー', 1, '東証プ', 1214.0, 700.0, 0.0, '2', 1213.5, 849450.0, -350.0, -0.04118616144975288, True, 7, 'day', 1, '2023-11-15 22:14:58.184286', '2023-11-15 22:14:58.184286'), (None, 4, '8316', '三井住友フィナンシャルグループ', 1, '東証プ', 6309.0, 100.0, 0.0, '2', 7152.0, 715200.0, 84300.0, 13.36186400380409, True, 7, 'day', 1, '2023-11-15 22:14:58.184286', '2023-11-15 22:14:58.184286'), (None, 4, '9101', '日本郵船', 1, '東証プ', 3131.0, 200.0, 0.0, '2', 3708.0, 741600.0, 115400.0, 18.428617055253913, True, 7, 'day', 1, '2023-11-15 22:14:58.184286', '2023-11-15 22:14:58.184286'), (None, 4, '9119', '飯野海運', 1, '東証プ', 1089.0, 1100.0, 0.0, '2', 1122.0, 1234200.0, 36300.0, 3.0303030303030303, True, 7, 'day', 1, '2023-11-15 22:14:58.184286', '2023-11-15 22:14:58.184286'), (None, 4, '9142', '九州旅客鉄道', 1, '東証プ', 3033.0, 200.0, 0.0, '2', 3070.0, 614000.0, 7400.0, 1.2199142762940982, True, 7, 'day', 1, '2023-11-15 22:14:58.184286', '2023-11-15 22:14:58.184286'), (None, 4, '9501', '東京電力ホールディングス', 1, '東証プ', 616.0, 1700.0, 0.0, '2', 660.0, 1122000.0, 74800.0, 7.142857142857143, True, 7, 'day', 1, '2023-11-15 22:14:58.184286', '2023-11-15 22:14:58.184286'), (None, 4, '9503', '関西電力', 1, '東証プ', 2110.0, 700.0, 0.0, '2', 1919.0, 1343300.0, -133700.0, -9.052132701421801, True, 7, 'day', 1, '2023-11-15 22:14:58.184286', '2023-11-15 22:14:58.184286')]"
   ]
  }
 ],
 "metadata": {
  "kernelspec": {
   "display_name": "Python 3 (ipykernel)",
   "language": "python",
   "name": "python3"
  },
  "language_info": {
   "codemirror_mode": {
    "name": "ipython",
    "version": 3
   },
   "file_extension": ".py",
   "mimetype": "text/x-python",
   "name": "python",
   "nbconvert_exporter": "python",
   "pygments_lexer": "ipython3",
   "version": "3.8.17"
  }
 },
 "nbformat": 4,
 "nbformat_minor": 5
}
